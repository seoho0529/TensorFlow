{
  "nbformat": 4,
  "nbformat_minor": 0,
  "metadata": {
    "colab": {
      "provenance": [],
      "authorship_tag": "ABX9TyMWTuR9a75pHZAgaWxwB/kl",
      "include_colab_link": true
    },
    "kernelspec": {
      "name": "python3",
      "display_name": "Python 3"
    },
    "language_info": {
      "name": "python"
    }
  },
  "cells": [
    {
      "cell_type": "markdown",
      "metadata": {
        "id": "view-in-github",
        "colab_type": "text"
      },
      "source": [
        "<a href=\"https://colab.research.google.com/github/seoho0529/TensorFlow/blob/main/tf26rnn.ipynb\" target=\"_parent\"><img src=\"https://colab.research.google.com/assets/colab-badge.svg\" alt=\"Open In Colab\"/></a>"
      ]
    },
    {
      "cell_type": "code",
      "execution_count": 2,
      "metadata": {
        "id": "adLtaxYgCa1Q"
      },
      "outputs": [],
      "source": [
        "# 문자열 토큰 처리 후 LSTM으로 감성분류\n",
        "from keras.preprocessing.text import Tokenizer\n",
        "import tensorflow as tf\n",
        "from keras.models import Sequential\n",
        "from keras.layers import SimpleRNN, LSTM, Dense"
      ]
    },
    {
      "cell_type": "code",
      "source": [
        "samples = ['The cat say on the mat.','The dog ate my homework']\n",
        "\n",
        "token_index = {}\n",
        "for sam in samples:\n",
        "  for word in sam.split(sep=' '):\n",
        "    if word not in token_index:\n",
        "      token_index[word] = len(token_index)\n",
        "print(token_index)\n",
        "print()\n",
        "tokenizer = Tokenizer(num_words=10)\n",
        "tokenizer.fit_on_texts(samples)\n",
        "token_seq = tokenizer.texts_to_sequences(samples) # 텍스트를 정수 인덱싱해서 리스트로 반환  # [[1, 2, 3, 4, 1, 5], [1, 6, 7, 8, 9]]\n",
        "print(token_seq)\n",
        "print(tokenizer.word_index)\n",
        "print()\n",
        "token_mat = tokenizer.texts_to_matrix(samples, mode='binary')  # 'count(빈도)', 'tdidf(비율)', 'freq'등을 쓸 수 있다.\n",
        "print(token_mat)  # binary를 사용함으로써 원핫 이진벡터 형태로 출력됨\n",
        "print(tokenizer.word_counts)  # 단어 개수 세기\n",
        "print(tokenizer.document_count) #문장 개수\n",
        "print(tokenizer.word_docs)\n",
        "\n",
        "from keras.utils import to_categorical\n",
        "token_seq = to_categorical(token_seq[0], num_classes=6)\n",
        "print(token_seq)"
      ],
      "metadata": {
        "colab": {
          "base_uri": "https://localhost:8080/"
        },
        "id": "BlhcEmzCV4WR",
        "outputId": "b8162b72-160d-4ba2-f853-756f309b4d44"
      },
      "execution_count": 12,
      "outputs": [
        {
          "output_type": "stream",
          "name": "stdout",
          "text": [
            "{'The': 0, 'cat': 1, 'say': 2, 'on': 3, 'the': 4, 'mat.': 5, 'dog': 6, 'ate': 7, 'my': 8, 'homework': 9}\n",
            "\n",
            "[[1, 2, 3, 4, 1, 5], [1, 6, 7, 8, 9]]\n",
            "{'the': 1, 'cat': 2, 'say': 3, 'on': 4, 'mat': 5, 'dog': 6, 'ate': 7, 'my': 8, 'homework': 9}\n",
            "\n",
            "[[0. 1. 1. 1. 1. 1. 0. 0. 0. 0.]\n",
            " [0. 1. 0. 0. 0. 0. 1. 1. 1. 1.]]\n",
            "OrderedDict([('the', 3), ('cat', 1), ('say', 1), ('on', 1), ('mat', 1), ('dog', 1), ('ate', 1), ('my', 1), ('homework', 1)])\n",
            "2\n",
            "defaultdict(<class 'int'>, {'cat': 1, 'the': 2, 'mat': 1, 'on': 1, 'say': 1, 'homework': 1, 'dog': 1, 'my': 1, 'ate': 1})\n",
            "[[0. 1. 0. 0. 0. 0.]\n",
            " [0. 0. 1. 0. 0. 0.]\n",
            " [0. 0. 0. 1. 0. 0.]\n",
            " [0. 0. 0. 0. 1. 0.]\n",
            " [0. 1. 0. 0. 0. 0.]\n",
            " [0. 0. 0. 0. 0. 1.]]\n"
          ]
        }
      ]
    },
    {
      "cell_type": "code",
      "source": [
        "import numpy as np\n",
        "docs = ['너무 재밌네요','최고에요','참 잘 만든 영화에요','추천하고 싶은 영화입니다','한 번 더 보고 싶어요','글쎄요','별로에요','생각보다 지루하네요','연기가 어색해요','재미없어요']\n",
        "# label이 없으면 지도학습을 못하기 때문에..\n",
        "labels=np.array([1,1,1,1,1,0,0,0,0,0])\n",
        "\n",
        "token = Tokenizer()\n",
        "token.fit_on_texts(docs)\n",
        "print(token.word_index)\n",
        "\n",
        "x = token.texts_to_sequences(docs) # 정수형 타입을 리스트형으로 반환\n",
        "print('정수 인덱싱된 토큰 결과 : ', x)\n",
        "\n",
        "# 요소의 개수가 다르면 힘들기 때문에 요소의 개수를 맞춰줘야 하므로..\n",
        "from keras.utils import pad_sequences # 서로 다른 길이의 데이터를 일정한 크기로 만듦\n",
        "from keras.layers import Embedding, Flatten\n",
        "padded_x = pad_sequences(x, 5)  # 크기를 가장 요소가 긴 개수만큼 맞춤\n",
        "print(padded_x)\n",
        "\n",
        "word_size = len(token.word_index) + 1 # 임베딩에 입력될 단어수(토큰 수)를 지정 : 가능한 토큰 수는 최대값 + 1을 준다.\n",
        "model = Sequential()\n",
        "# Embedding(가능토큰 수(문장 수), 벡터크기(차원), input_length=시퀀스 개수) - 워드 임베딩이란 텍스트 내의 단어들을 밀집 벡터(dense vector)로 만드는 것을 말한다.\n",
        "# 워드 임베딩 작업을 수행하고 (numbert of samples, embedding word dimensonality, input_length)인 3D 텐서를 리턴한다.\n",
        "model.add(Embedding(word_size, 8, input_length=5))\n",
        "model.add(LSTM(units=32, activation='tanh')) # RNN층\n",
        "# model.add(Flatten())\n",
        "model.add(Dense(units=32, activation='relu')) # 완전연결층\n",
        "model.add(Dense(units=1, activation='sigmoid'))\n",
        "model.summary()\n",
        "\n",
        "model.compile(optimizer='adam',loss='binary_crossentropy', metrics=['accuracy'])\n",
        "model.fit(padded_x, labels, epochs=20, verbose=1)\n",
        "print('eval acc : %.4f'%(model.evaluate(padded_x, labels)[1]))\n",
        "\n",
        "print('predict : ', np.where(model.predict(padded_x) > 0.5, 1, 0).ravel())\n",
        "print('real : ', labels)"
      ],
      "metadata": {
        "colab": {
          "base_uri": "https://localhost:8080/"
        },
        "id": "RGH5cLHwZiZO",
        "outputId": "e7af396c-af76-438e-c865-caa697020681"
      },
      "execution_count": 27,
      "outputs": [
        {
          "output_type": "stream",
          "name": "stdout",
          "text": [
            "{'너무': 1, '재밌네요': 2, '최고에요': 3, '참': 4, '잘': 5, '만든': 6, '영화에요': 7, '추천하고': 8, '싶은': 9, '영화입니다': 10, '한': 11, '번': 12, '더': 13, '보고': 14, '싶어요': 15, '글쎄요': 16, '별로에요': 17, '생각보다': 18, '지루하네요': 19, '연기가': 20, '어색해요': 21, '재미없어요': 22}\n",
            "정수 인덱싱된 토큰 결과 :  [[1, 2], [3], [4, 5, 6, 7], [8, 9, 10], [11, 12, 13, 14, 15], [16], [17], [18, 19], [20, 21], [22]]\n",
            "[[ 0  0  0  1  2]\n",
            " [ 0  0  0  0  3]\n",
            " [ 0  4  5  6  7]\n",
            " [ 0  0  8  9 10]\n",
            " [11 12 13 14 15]\n",
            " [ 0  0  0  0 16]\n",
            " [ 0  0  0  0 17]\n",
            " [ 0  0  0 18 19]\n",
            " [ 0  0  0 20 21]\n",
            " [ 0  0  0  0 22]]\n",
            "Model: \"sequential_7\"\n",
            "_________________________________________________________________\n",
            " Layer (type)                Output Shape              Param #   \n",
            "=================================================================\n",
            " embedding_7 (Embedding)     (None, 5, 8)              184       \n",
            "                                                                 \n",
            " lstm_7 (LSTM)               (None, 32)                5248      \n",
            "                                                                 \n",
            " dense_14 (Dense)            (None, 32)                1056      \n",
            "                                                                 \n",
            " dense_15 (Dense)            (None, 1)                 33        \n",
            "                                                                 \n",
            "=================================================================\n",
            "Total params: 6521 (25.47 KB)\n",
            "Trainable params: 6521 (25.47 KB)\n",
            "Non-trainable params: 0 (0.00 Byte)\n",
            "_________________________________________________________________\n",
            "Epoch 1/20\n",
            "1/1 [==============================] - 3s 3s/step - loss: 0.6926 - accuracy: 0.7000\n",
            "Epoch 2/20\n",
            "1/1 [==============================] - 0s 15ms/step - loss: 0.6915 - accuracy: 0.9000\n",
            "Epoch 3/20\n",
            "1/1 [==============================] - 0s 16ms/step - loss: 0.6905 - accuracy: 1.0000\n",
            "Epoch 4/20\n",
            "1/1 [==============================] - 0s 15ms/step - loss: 0.6897 - accuracy: 1.0000\n",
            "Epoch 5/20\n",
            "1/1 [==============================] - 0s 14ms/step - loss: 0.6889 - accuracy: 1.0000\n",
            "Epoch 6/20\n",
            "1/1 [==============================] - 0s 17ms/step - loss: 0.6880 - accuracy: 1.0000\n",
            "Epoch 7/20\n",
            "1/1 [==============================] - 0s 19ms/step - loss: 0.6870 - accuracy: 1.0000\n",
            "Epoch 8/20\n",
            "1/1 [==============================] - 0s 17ms/step - loss: 0.6860 - accuracy: 1.0000\n",
            "Epoch 9/20\n",
            "1/1 [==============================] - 0s 16ms/step - loss: 0.6848 - accuracy: 1.0000\n",
            "Epoch 10/20\n",
            "1/1 [==============================] - 0s 27ms/step - loss: 0.6835 - accuracy: 1.0000\n",
            "Epoch 11/20\n",
            "1/1 [==============================] - 0s 19ms/step - loss: 0.6821 - accuracy: 1.0000\n",
            "Epoch 12/20\n",
            "1/1 [==============================] - 0s 20ms/step - loss: 0.6807 - accuracy: 1.0000\n",
            "Epoch 13/20\n",
            "1/1 [==============================] - 0s 19ms/step - loss: 0.6792 - accuracy: 0.9000\n",
            "Epoch 14/20\n",
            "1/1 [==============================] - 0s 21ms/step - loss: 0.6775 - accuracy: 0.9000\n",
            "Epoch 15/20\n",
            "1/1 [==============================] - 0s 18ms/step - loss: 0.6757 - accuracy: 0.9000\n",
            "Epoch 16/20\n",
            "1/1 [==============================] - 0s 17ms/step - loss: 0.6738 - accuracy: 0.9000\n",
            "Epoch 17/20\n",
            "1/1 [==============================] - 0s 17ms/step - loss: 0.6718 - accuracy: 0.9000\n",
            "Epoch 18/20\n",
            "1/1 [==============================] - 0s 16ms/step - loss: 0.6696 - accuracy: 0.9000\n",
            "Epoch 19/20\n",
            "1/1 [==============================] - 0s 16ms/step - loss: 0.6672 - accuracy: 0.9000\n",
            "Epoch 20/20\n",
            "1/1 [==============================] - 0s 18ms/step - loss: 0.6647 - accuracy: 0.9000\n"
          ]
        },
        {
          "output_type": "stream",
          "name": "stderr",
          "text": [
            "WARNING:tensorflow:5 out of the last 5 calls to <function Model.make_test_function.<locals>.test_function at 0x792de1e18670> triggered tf.function retracing. Tracing is expensive and the excessive number of tracings could be due to (1) creating @tf.function repeatedly in a loop, (2) passing tensors with different shapes, (3) passing Python objects instead of tensors. For (1), please define your @tf.function outside of the loop. For (2), @tf.function has reduce_retracing=True option that can avoid unnecessary retracing. For (3), please refer to https://www.tensorflow.org/guide/function#controlling_retracing and https://www.tensorflow.org/api_docs/python/tf/function for  more details.\n"
          ]
        },
        {
          "output_type": "stream",
          "name": "stdout",
          "text": [
            "1/1 [==============================] - 1s 548ms/step - loss: 0.6620 - accuracy: 0.9000\n",
            "eval acc : 0.9000\n",
            "1/1 [==============================] - 0s 481ms/step\n",
            "predict :  [1 0 1 1 1 0 0 0 0 0]\n",
            "real :  [1 1 1 1 1 0 0 0 0 0]\n"
          ]
        }
      ]
    }
  ]
}