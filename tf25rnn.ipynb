{
  "nbformat": 4,
  "nbformat_minor": 0,
  "metadata": {
    "colab": {
      "provenance": [],
      "authorship_tag": "ABX9TyPLMGU/p+fLpuOGPRO66WiS",
      "include_colab_link": true
    },
    "kernelspec": {
      "name": "python3",
      "display_name": "Python 3"
    },
    "language_info": {
      "name": "python"
    }
  },
  "cells": [
    {
      "cell_type": "markdown",
      "metadata": {
        "id": "view-in-github",
        "colab_type": "text"
      },
      "source": [
        "<a href=\"https://colab.research.google.com/github/seoho0529/TensorFlow/blob/main/tf25rnn.ipynb\" target=\"_parent\"><img src=\"https://colab.research.google.com/assets/colab-badge.svg\" alt=\"Open In Colab\"/></a>"
      ]
    },
    {
      "cell_type": "code",
      "execution_count": 1,
      "metadata": {
        "id": "fXYrwLMt1ZKJ"
      },
      "outputs": [],
      "source": [
        "# RNN(Recurrent Neural Network)은 시계열 또는 순차 데이터를 예측하는 딥러닝을 위한 신경망 아키텍처입니다.\n",
        "# RNN은 다양한 길이의 순차 데이터로 작업하고 자연 신호 분류, 언어 처리, 비디오 분석 등의 문제를 해결하는 데 특히 효과적입니다\n",
        "import tensorflow as tf\n",
        "from keras.models import Sequential\n",
        "from keras.layers import SimpleRNN, LSTM, GRU, Dense"
      ]
    },
    {
      "cell_type": "code",
      "source": [
        "model = Sequential()\n",
        "# model.add(SimpleRNN(units=3, input_shape=(2, 10)))  # 가장 단순한 형태의 RNN이라고 하여 Vanilla RNN\n",
        "model.add(LSTM(units=3, input_shape=(2, 10)))       # SimpleRNN의 Long-Term 문제를 해결\n",
        "# model.add(GRU(units=3, input_shape=(2, 10)))        # LSTM 보다 단순한 구조를 가지나 성능은 우수\n",
        "print(model.summary())\n",
        "\n",
        "print()\n",
        "model = Sequential()\n",
        "model.add(LSTM(units=3, batch_input_shape=(8, 2, 10), return_sequences=False))  # batch_size=8, Many-to- One\n",
        "print(model.summary())\n",
        "\n",
        "print()\n",
        "model = Sequential()\n",
        "model.add(LSTM(units=3, batch_input_shape=(8, 2, 10), return_sequences=True))  # Many-to-many\n",
        "print(model.summary())  # Output Shape : (배치 수, 시퀀스 수, 출력 수)  --> 시퀀스는 Rnn 모형 두개, 출력은 [[a,a,a], [b,b,b]]  3개,, 총 8개(batch_size)씩 묶어 학습에 참여"
      ],
      "metadata": {
        "colab": {
          "base_uri": "https://localhost:8080/"
        },
        "id": "z64y6CBy5_MN",
        "outputId": "92ca86ff-769d-42c5-8488-2cb7e6098ec5"
      },
      "execution_count": 7,
      "outputs": [
        {
          "output_type": "stream",
          "name": "stdout",
          "text": [
            "Model: \"sequential_6\"\n",
            "_________________________________________________________________\n",
            " Layer (type)                Output Shape              Param #   \n",
            "=================================================================\n",
            " lstm_5 (LSTM)               (None, 3)                 168       \n",
            "                                                                 \n",
            "=================================================================\n",
            "Total params: 168 (672.00 Byte)\n",
            "Trainable params: 168 (672.00 Byte)\n",
            "Non-trainable params: 0 (0.00 Byte)\n",
            "_________________________________________________________________\n",
            "None\n",
            "\n",
            "Model: \"sequential_7\"\n",
            "_________________________________________________________________\n",
            " Layer (type)                Output Shape              Param #   \n",
            "=================================================================\n",
            " lstm_6 (LSTM)               (8, 3)                    168       \n",
            "                                                                 \n",
            "=================================================================\n",
            "Total params: 168 (672.00 Byte)\n",
            "Trainable params: 168 (672.00 Byte)\n",
            "Non-trainable params: 0 (0.00 Byte)\n",
            "_________________________________________________________________\n",
            "None\n",
            "\n",
            "Model: \"sequential_8\"\n",
            "_________________________________________________________________\n",
            " Layer (type)                Output Shape              Param #   \n",
            "=================================================================\n",
            " lstm_7 (LSTM)               (8, 2, 3)                 168       \n",
            "                                                                 \n",
            "=================================================================\n",
            "Total params: 168 (672.00 Byte)\n",
            "Trainable params: 168 (672.00 Byte)\n",
            "Non-trainable params: 0 (0.00 Byte)\n",
            "_________________________________________________________________\n",
            "None\n"
          ]
        }
      ]
    },
    {
      "cell_type": "code",
      "source": [
        "# 4개의 숫자가 주어지면, 그 다음 숫자를 예측\n",
        "import numpy as np\n",
        "\n",
        "x = []\n",
        "y = []\n",
        "for i in range(6):\n",
        "  lst = list(range(i, i + 4))\n",
        "  # print(lst)\n",
        "  x.append(list(map(lambda c:[c/10], lst)))\n",
        "  y.append((i+4) / 10)\n",
        "\n",
        "x = np.array(x)\n",
        "y = np.array(y)\n",
        "# print(x)\n",
        "# print(y)\n",
        "\n",
        "model = Sequential([\n",
        "    # SimpleRNN(units=10, activation='tanh', input_shape=[4,1]),\n",
        "    LSTM(units=10, activation='tanh', input_shape=[4,1]),\n",
        "    Dense(units=1)\n",
        "])\n",
        "\n",
        "model.compile(optimizer='adam', loss='mse')\n",
        "model.summary()\n",
        "model.fit(x=x, y=y, epochs=100, verbose=0)\n",
        "print('예측값 : ', model.predict(x).flatten())\n",
        "print('실제값 : ', y)\n",
        "print()\n",
        "print(model.predict(np.array([[[-0.1],[0.8],[0.9]]])))\n",
        "# print(model.predict(np.array([[[5.0],[8.0],[12.0]]])))\n"
      ],
      "metadata": {
        "colab": {
          "base_uri": "https://localhost:8080/"
        },
        "id": "K-hAzDep9qHx",
        "outputId": "0b34f306-448f-4cbf-e9b0-6522990151ba"
      },
      "execution_count": 17,
      "outputs": [
        {
          "output_type": "stream",
          "name": "stdout",
          "text": [
            "Model: \"sequential_15\"\n",
            "_________________________________________________________________\n",
            " Layer (type)                Output Shape              Param #   \n",
            "=================================================================\n",
            " lstm_14 (LSTM)              (None, 10)                480       \n",
            "                                                                 \n",
            " dense_6 (Dense)             (None, 1)                 11        \n",
            "                                                                 \n",
            "=================================================================\n",
            "Total params: 491 (1.92 KB)\n",
            "Trainable params: 491 (1.92 KB)\n",
            "Non-trainable params: 0 (0.00 Byte)\n",
            "_________________________________________________________________\n",
            "1/1 [==============================] - 0s 423ms/step\n",
            "예측값 :  [0.461952   0.537776   0.6099152  0.677574   0.74021775 0.79755306]\n",
            "실제값 :  [0.4 0.5 0.6 0.7 0.8 0.9]\n",
            "\n",
            "1/1 [==============================] - 0s 413ms/step\n",
            "[[0.52743715]]\n",
            "1/1 [==============================] - 0s 20ms/step\n",
            "[[0.7420308]]\n"
          ]
        }
      ]
    }
  ]
}