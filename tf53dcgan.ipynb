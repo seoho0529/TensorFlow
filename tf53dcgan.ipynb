{
  "nbformat": 4,
  "nbformat_minor": 0,
  "metadata": {
    "colab": {
      "provenance": [],
      "authorship_tag": "ABX9TyMMtmS5hX1ZFp4XTxrMR1SE"
    },
    "kernelspec": {
      "name": "python3",
      "display_name": "Python 3"
    },
    "language_info": {
      "name": "python"
    }
  },
  "cells": [
    {
      "cell_type": "code",
      "execution_count": 2,
      "metadata": {
        "id": "5u4YGTw1oY7H"
      },
      "outputs": [],
      "source": [
        "# DCGAN : CNN을 GAN에 적용한 알고리즘 - 비지도학습\n",
        "# MNIST dataset을 사용\n",
        "# input -> Generator(생성자) -> fake data -> Descriminator가 판별 (원본과 구분할 수 없는 가짜 데이터가 생성될 때 까지 반복)\n",
        "from keras.datasets import mnist\n",
        "from keras.layers import Input, Dense, Reshape, Flatten, Dropout, BatchNormalization, Activation, ReLU, LeakyReLU, Conv2D, UpSampling2D\n",
        "from keras.models import Sequential, Model\n",
        "import numpy as np\n",
        "import matplotlib.pyplot as plt\n",
        "import tensorflow as tf\n",
        "import os"
      ]
    },
    {
      "cell_type": "code",
      "source": [
        "# Generator가 만드는 이미지 저장 폴더\n",
        "if not os.path.exists(\"./gan_images\"):\n",
        "  os.makedirs(\"./gan_images\")\n",
        "\n",
        "# np.random.seed(3)\n",
        "tf.random.set_seed(3)\n",
        "\n",
        "# Generator model\n",
        "generator = Sequential()\n",
        "generator.add(Dense(128*7*7, input_dim=100, activation=LeakyReLU(alpha=0.2)))  # GAN은 ReLU 학습이 다소 불안정하기에 LeakyReLU을 사용한다.\n",
        "generator.add(BatchNormalization())  # 배치정규화 진행 - 안정적 학습:과적합 방지 효과\n",
        "generator.add(Reshape((7, 7, 128)))\n",
        "generator.add(UpSampling2D())  # 이미지 크기를 2배 확장\n",
        "generator.add(Conv2D(64, kernel_size=5, padding='same'))\n",
        "generator.add(BatchNormalization())\n",
        "generator.add(Activation(LeakyReLU(0.3)))  # alpha = 음의 기울기 계수 (-1 ~ 1 사이)\n",
        "generator.add(UpSampling2D())\n",
        "generator.add(Conv2D(1, kernel_size=5, padding='same', activation='tanh'))\n",
        "print(generator.summary())\n",
        "# Descriminator"
      ],
      "metadata": {
        "colab": {
          "base_uri": "https://localhost:8080/"
        },
        "id": "Fu8Ss7SDqZBH",
        "outputId": "bcf70e7b-b5e3-4c3c-b344-6e737cc926da"
      },
      "execution_count": 3,
      "outputs": [
        {
          "output_type": "stream",
          "name": "stdout",
          "text": [
            "Model: \"sequential\"\n",
            "_________________________________________________________________\n",
            " Layer (type)                Output Shape              Param #   \n",
            "=================================================================\n",
            " dense (Dense)               (None, 6272)              633472    \n",
            "                                                                 \n",
            " batch_normalization (Batch  (None, 6272)              25088     \n",
            " Normalization)                                                  \n",
            "                                                                 \n",
            " reshape (Reshape)           (None, 7, 7, 128)         0         \n",
            "                                                                 \n",
            " up_sampling2d (UpSampling2  (None, 14, 14, 128)       0         \n",
            " D)                                                              \n",
            "                                                                 \n",
            " conv2d (Conv2D)             (None, 14, 14, 64)        204864    \n",
            "                                                                 \n",
            " batch_normalization_1 (Bat  (None, 14, 14, 64)        256       \n",
            " chNormalization)                                                \n",
            "                                                                 \n",
            " activation (Activation)     (None, 14, 14, 64)        0         \n",
            "                                                                 \n",
            " up_sampling2d_1 (UpSamplin  (None, 28, 28, 64)        0         \n",
            " g2D)                                                            \n",
            "                                                                 \n",
            " conv2d_1 (Conv2D)           (None, 28, 28, 1)         1601      \n",
            "                                                                 \n",
            "=================================================================\n",
            "Total params: 865281 (3.30 MB)\n",
            "Trainable params: 852609 (3.25 MB)\n",
            "Non-trainable params: 12672 (49.50 KB)\n",
            "_________________________________________________________________\n",
            "None\n"
          ]
        }
      ]
    }
  ]
}