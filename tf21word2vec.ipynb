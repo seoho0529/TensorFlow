{
  "nbformat": 4,
  "nbformat_minor": 0,
  "metadata": {
    "colab": {
      "provenance": [],
      "authorship_tag": "ABX9TyNpu6IieY2voWt0zRp95shn",
      "include_colab_link": true
    },
    "kernelspec": {
      "name": "python3",
      "display_name": "Python 3"
    },
    "language_info": {
      "name": "python"
    }
  },
  "cells": [
    {
      "cell_type": "markdown",
      "metadata": {
        "id": "view-in-github",
        "colab_type": "text"
      },
      "source": [
        "<a href=\"https://colab.research.google.com/github/seoho0529/TensorFlow/blob/main/tf21word2vec.ipynb\" target=\"_parent\"><img src=\"https://colab.research.google.com/assets/colab-badge.svg\" alt=\"Open In Colab\"/></a>"
      ]
    },
    {
      "cell_type": "code",
      "execution_count": 2,
      "metadata": {
        "colab": {
          "base_uri": "https://localhost:8080/"
        },
        "id": "QCoX849oR4H-",
        "outputId": "da56a4d5-69d8-47a0-d268-a20d3a3411b0"
      },
      "outputs": [
        {
          "output_type": "stream",
          "name": "stdout",
          "text": [
            "Requirement already satisfied: konlpy in /usr/local/lib/python3.10/dist-packages (0.6.0)\n",
            "Requirement already satisfied: JPype1>=0.7.0 in /usr/local/lib/python3.10/dist-packages (from konlpy) (1.4.1)\n",
            "Requirement already satisfied: lxml>=4.1.0 in /usr/local/lib/python3.10/dist-packages (from konlpy) (4.9.3)\n",
            "Requirement already satisfied: numpy>=1.6 in /usr/local/lib/python3.10/dist-packages (from konlpy) (1.23.5)\n",
            "Requirement already satisfied: packaging in /usr/local/lib/python3.10/dist-packages (from JPype1>=0.7.0->konlpy) (23.2)\n",
            "['테슬라가 3년만의 신차인 전기 픽업트럭 ‘사이버트럭’을 30일(현지 시각) 고객에게 첫 인도하며 픽업 트럭 시장에 본격 진출했다. 이 차는 테슬라가 3년 만에 내놓는 신차인데다 파격적인 디자인 등으로 최근 주춤한 전기차 시장의 ‘게임체인저’가 될 것이란 기대가 컸다. 100만명 이상이 이 차를 사전 예약하고 구매를 기다리고 있는 상황이다.', '', '거기다 사이버트럭 출시는 테슬라에 있어서 연 250만대 안팎에 이르는 수익성 높은 시장인 픽업 트럭 분야에 진출한다는 의미도 있다. 하지만 다루기 어려운 스테인리스강 합금 소재로 차를 만드는 등 생산에 오랜 시간이 걸려 실제 테슬라의 수익성에 도움이 되지 않을 것이란 분석도 많다.', '', '', '테슬라 등에 따르면 2025년부터 인도가 가능한 사이버트럭 후륜구동 모델의 시작 가격은 6만990달러(약 7935만원)다. 하지만 내년에 받을 수 있는 사륜구동 모델과 가장 고급 모델인 ‘사이버비스트’(Cyberbeast)의 시작 가격은 각각 7만9990달러(약 1억407만원), 9만9990달러(약 1억3천9만원)에 이른다. 일론 머스크는 2019년 11월 4만달러에 이 차를 팔겠다고 했지만 최소 가격 기준 약 50%가 비싸진 것이다.', '', '다만 경쟁자인 포드나 GM, 리비안 등의 전기 트럭과 비교하면 평균 정도 가격수준이다. 리비안의 R1T 픽업은 약 7만3000달러부터 시작하고 포드 F-150 라이트닝의 가장 저렴한 버전도 5만달러부터다.', '', '캘리포니아 전시장에 전시된 테슬라 사이버트럭. /연합뉴스', '', '캘리포니아 전시장에 전시된 테슬라 사이버트럭. /연합뉴스', '일론 머스크는 이날 사이버트럭을 타고 행사장에 나타나 “전문가들도 불가능하다고 했던 트럭을 만들었다”면서 “마침내 미래가 미래처럼 보인다”고 말했다.', '', '이 트럭은 길이가 5683mm에 5명이 탈 수 있고 3424L 적재공간을 지녔다. 무게가 3톤이다. 4륜구동 기준 멈춘 상태에서 시속 100km까지 4.3초에 달린다.', '', '차체를 단단한 스테인리스강 합금 소재로 만든 ‘방탄 차’라는 점도 강조한다. 머스크는 007영화인 ‘나를 사랑한 스파이’에 나오는 자동차로 잠수함을 개조한 모습에서 부분적으로 영감을 받았다고 한다. 테슬라는 이날 고객 인도 행사에서 총알을 차체에 쏴서 끄떡없는 장면도 보여주기도 했다.', '', '', '이 차는 페인트 칠도 하지 않는다. 소재가 부식에도 강하기 때문이다. 우주선에서도 이런 소재가 쓰인다. 이제껏 자동차 업계에서 스테인리스 스틸을 차체로 쓴 업체는 영화 ‘백투더퓨처’에 등장하는 ‘드로리안’을 제작했던 DMC 1곳 뿐이다. 그러나 이들은 1만대도 되지 않는 차량을 생산하다 비용 문제로 파산했다．', '', '그래서 독특한 소재만큼 생산이 문제다. 테슬라는 연 25만대 생산이 가능해지는게 2025년이라고 했다. 스테인리스강 합금을 레이저로 절단해 차체를 만드는 작업을 하는데 이 과정에서 품질을 유지하는 데 고전하고 있는 것으로 전해졌다. 그만큼 예약 고객이 많아도 차를 출고해주는 게 쉽지 않다는 얘기다. 연 수만대에 그칠 수 있다는 전망도 많다. 이때문에 일론 머스크는 지난달 실적 발표 때 “(사이버트럭으로) 우리가 우리 무덤을 팠다”고 말하는 등 생산에 대한 부담을 고백하기도 했다.']\n"
          ]
        }
      ],
      "source": [
        "# daum 페이지의 뉴스 기사를 읽어 형태소 분석 후 word2vec을 이용해 단어 간 유사도 확인\n",
        "!pip install konlpy\n",
        "from konlpy.tag import Okt\n",
        "import pandas as pd\n",
        "\n",
        "okt = Okt()\n",
        "\n",
        "with open('news.txt', mode='r') as obj:\n",
        "  lines = obj.read().split('\\n')\n",
        "\n",
        "print(lines)"
      ]
    },
    {
      "cell_type": "code",
      "source": [
        "# 명사만 추출해 단어 빈도 수를 확인\n",
        "wordDic = {}\n",
        "\n",
        "for line in lines:\n",
        "  datas = okt.pos(line)  # 품사 태깅\n",
        "  # print(datas)\n",
        "  for word in datas:\n",
        "    if word[1] == 'Noun':  # 명사만 잡기\n",
        "      # print(word[0])\n",
        "      if len(word[0]) >= 2:\n",
        "        if not(word[0] in wordDic):  # 안들어있으면 등록하라.\n",
        "          wordDic[word[0]] = 1\n",
        "        wordDic[word[0]] += 1\n",
        "\n",
        "print(wordDic)\n",
        "\n",
        "keys = sorted(wordDic.items(), key=lambda x:x[1], reverse=True) # descending True\n",
        "print(keys)\n",
        "\n",
        "# keys 자료를 DataFrame에 담기 - pandas를 이용하기 위해\n",
        "wordList = []\n",
        "countList = []\n",
        "for word, count in keys[:20]:\n",
        "  wordList.append(word)\n",
        "  countList.append(count)\n",
        "\n",
        "df = pd.DataFrame()\n",
        "df['word'] = wordList\n",
        "df['count'] = countList\n",
        "print(df.head(3))\n",
        "# pandas 의 기능으로 기술통계 작업 처리 ..."
      ],
      "metadata": {
        "colab": {
          "base_uri": "https://localhost:8080/"
        },
        "id": "8uvbGL9nUoxP",
        "outputId": "d9013718-415f-48cf-f798-657be9fc2ec3"
      },
      "execution_count": 7,
      "outputs": [
        {
          "output_type": "stream",
          "name": "stdout",
          "text": [
            "{'테슬라': 10, '신차': 3, '전기': 3, '픽업': 5, '트럭': 14, '사이버': 9, '현지': 2, '시각': 2, '고객': 4, '인도': 4, '시장': 4, '본격': 2, '진출': 3, '파격': 2, '디자인': 2, '최근': 2, '주춤': 2, '전기차': 2, '게임': 2, '체인': 2, '기대': 2, '이상': 2, '사전': 2, '예약': 3, '구매': 2, '상황': 2, '거기': 2, '출시': 2, '안팎': 2, '수익': 3, '분야': 2, '의미': 2, '스테인리스강': 4, '합금': 4, '소재': 6, '생산': 6, '시간': 2, '실제': 2, '도움': 2, '분석': 2, '후륜구동': 2, '모델': 4, '시작': 4, '가격': 5, '내년': 2, '사륜구동': 2, '가장': 3, '고급': 2, '비스트': 2, '각각': 2, '머스크': 5, '최소': 2, '기준': 3, '다만': 2, '경쟁자': 2, '포드': 3, '비교': 2, '평균': 2, '정도': 2, '수준': 2, '라이트닝': 2, '버전': 2, '캘리포니아': 3, '전시장': 3, '전시': 3, '연합뉴스': 3, '타고': 2, '행사': 3, '전문가': 2, '면서': 2, '마침내': 2, '미래': 3, '길이': 2, '적재': 2, '공간': 2, '무게': 2, '구동': 2, '상태': 2, '시속': 2, '달린다': 2, '차체': 5, '방탄': 2, '점도': 2, '강조': 2, '영화인': 2, '사랑': 2, '스파이': 2, '자동차': 3, '잠수함': 2, '개조': 2, '모습': 2, '부분': 2, '영감': 2, '총알': 2, '장면': 2, '페인트': 2, '부식': 2, '때문': 3, '우주선': 2, '이제껏': 2, '업계': 2, '스테인리스': 2, '스틸': 2, '업체': 2, '영화': 2, '백투더퓨처': 2, '등장': 2, '리안': 2, '제작': 2, '차량': 2, '비용': 2, '문제': 3, '레이저': 2, '절단': 2, '작업': 2, '과정': 2, '품질': 2, '유지': 2, '고전': 2, '출고': 2, '얘기': 2, '만대': 2, '전망': 2, '지난달': 2, '실적': 2, '발표': 2, '우리': 3, '무덤': 2, '대한': 2, '부담': 2, '고백': 2}\n",
            "[('트럭', 14), ('테슬라', 10), ('사이버', 9), ('소재', 6), ('생산', 6), ('픽업', 5), ('가격', 5), ('머스크', 5), ('차체', 5), ('고객', 4), ('인도', 4), ('시장', 4), ('스테인리스강', 4), ('합금', 4), ('모델', 4), ('시작', 4), ('신차', 3), ('전기', 3), ('진출', 3), ('예약', 3), ('수익', 3), ('가장', 3), ('기준', 3), ('포드', 3), ('캘리포니아', 3), ('전시장', 3), ('전시', 3), ('연합뉴스', 3), ('행사', 3), ('미래', 3), ('자동차', 3), ('때문', 3), ('문제', 3), ('우리', 3), ('현지', 2), ('시각', 2), ('본격', 2), ('파격', 2), ('디자인', 2), ('최근', 2), ('주춤', 2), ('전기차', 2), ('게임', 2), ('체인', 2), ('기대', 2), ('이상', 2), ('사전', 2), ('구매', 2), ('상황', 2), ('거기', 2), ('출시', 2), ('안팎', 2), ('분야', 2), ('의미', 2), ('시간', 2), ('실제', 2), ('도움', 2), ('분석', 2), ('후륜구동', 2), ('내년', 2), ('사륜구동', 2), ('고급', 2), ('비스트', 2), ('각각', 2), ('최소', 2), ('다만', 2), ('경쟁자', 2), ('비교', 2), ('평균', 2), ('정도', 2), ('수준', 2), ('라이트닝', 2), ('버전', 2), ('타고', 2), ('전문가', 2), ('면서', 2), ('마침내', 2), ('길이', 2), ('적재', 2), ('공간', 2), ('무게', 2), ('구동', 2), ('상태', 2), ('시속', 2), ('달린다', 2), ('방탄', 2), ('점도', 2), ('강조', 2), ('영화인', 2), ('사랑', 2), ('스파이', 2), ('잠수함', 2), ('개조', 2), ('모습', 2), ('부분', 2), ('영감', 2), ('총알', 2), ('장면', 2), ('페인트', 2), ('부식', 2), ('우주선', 2), ('이제껏', 2), ('업계', 2), ('스테인리스', 2), ('스틸', 2), ('업체', 2), ('영화', 2), ('백투더퓨처', 2), ('등장', 2), ('리안', 2), ('제작', 2), ('차량', 2), ('비용', 2), ('레이저', 2), ('절단', 2), ('작업', 2), ('과정', 2), ('품질', 2), ('유지', 2), ('고전', 2), ('출고', 2), ('얘기', 2), ('만대', 2), ('전망', 2), ('지난달', 2), ('실적', 2), ('발표', 2), ('무덤', 2), ('대한', 2), ('부담', 2), ('고백', 2)]\n",
            "  word  count\n",
            "0   트럭     14\n",
            "1  테슬라     10\n",
            "2  사이버      9\n"
          ]
        }
      ]
    },
    {
      "cell_type": "code",
      "source": [
        "# 단어 간 유사도 구하기\n",
        "results = [] # 한글만 기억시킬 리스트 만듬\n",
        "\n",
        "with open('news.txt', mode='r') as obj:\n",
        "  lines = obj.read().split('\\n')\n",
        "\n",
        "  for line in lines:\n",
        "    datas = okt.pos(line, stem=True) # 원형 어근으로 출력, 한가한:한가하다 (동사나 형용사에 대해 stem=True해주면 좋음)\n",
        "    # print(datas)\n",
        "    imsi=[]\n",
        "    for word in datas:\n",
        "      if not word[1] in ['Number','Josa', 'Punctuation', 'Alpha', 'Modifier', 'Suffix', 'Foreign']:  # 필요없는거 제끼기\n",
        "        if len(word[0]) >= 2:\n",
        "          imsi.append(word[0])\n",
        "    imsi2 = (' '.join(imsi)).strip() # 좌우 공백 자르기\n",
        "    results.append(imsi2)"
      ],
      "metadata": {
        "id": "dS_igs78XzFi"
      },
      "execution_count": 11,
      "outputs": []
    },
    {
      "cell_type": "code",
      "source": [
        "print(results)\n",
        "\n",
        "fileName = 'daumnews.txt'\n",
        "with open(fileName, mode='w') as obj:\n",
        "  obj.write('\\n'.join(results))\n",
        "\n",
        "from gensim.models import word2vec\n",
        "\n",
        "lineObj = word2vec.LineSentence(fileName)\n",
        "\n",
        "model = word2vec.Word2Vec(sentences=lineObj, vector_size=100, window=10, min_count=1, sg=1)\n",
        "# sg=0 : CBOW(주변단어로 중심단어를 예측)\n",
        "# sg=1 : skip-gram(중심단어로 주변단어를 예측)\n",
        "# 이 모델은 sg=1이니 중심단어로 주변단어를 예측하는 모델임!! - 코사인유사도를 이용해서 두 벡터간의 사이각(코사인 θ)의 관계를 파악\n",
        "\n",
        "print(model)\n",
        "\n",
        "model.init_sims(replace=True)  # 필요없는 메모리 해제\n",
        "\n",
        "# positive : 단어 사전에 해당 단어가 있을 확률. 가까운 단어 찾음\n",
        "# negative : 단어 사전에 해당 단어가 없을 확률. 먼 단어 찾음\n",
        "\n",
        "print(model.wv.most_similar(positive=['테슬라']))  # 테슬라 : 긍정적 기여 목록\n",
        "print(model.wv.most_similar(negative=['트럭']))    # 트럭 : 부정적 기여 목록\n",
        "print(model.wv.most_similar(positive=['테슬라'], topn=5))\n",
        "print(model.wv.most_similar(positive=['테슬라','사이버'], topn=5))"
      ],
      "metadata": {
        "colab": {
          "base_uri": "https://localhost:8080/"
        },
        "id": "b6D2K1HzaD4W",
        "outputId": "900c3338-1d45-4203-ba1e-64c123180542"
      },
      "execution_count": 17,
      "outputs": [
        {
          "output_type": "stream",
          "name": "stderr",
          "text": [
            "<ipython-input-17-288dc41e2a41>:18: DeprecationWarning: Call to deprecated `init_sims` (Gensim 4.0.0 implemented internal optimizations that make calls to init_sims() unnecessary. init_sims() is now obsoleted and will be completely removed in future versions. See https://github.com/RaRe-Technologies/gensim/wiki/Migrating-from-Gensim-3.x-to-4).\n",
            "  model.init_sims(replace=True)  # 필요없는 메모리 해제\n",
            "WARNING:gensim.models.keyedvectors:destructive init_sims(replace=True) deprecated & no longer required for space-efficiency\n"
          ]
        },
        {
          "output_type": "stream",
          "name": "stdout",
          "text": [
            "['테슬라 신차 전기 픽업 트럭 사이버 트럭 현지 시각 고객 인도 하다 픽업 트럭 시장 본격 진출 하다 차다 테슬라 내놓다 신차 파격 디자인 최근 주춤 전기차 시장 게임 체인 가다 되다 기대 크다 이상 사전 예약 구매 기다리다 있다 상황', '', '거기 사이버 트럭 출시 테슬라 있다 안팎 이르다 수익 높다 시장 픽업 트럭 분야 진출 의미 있다 하지만 다루다 어렵다 스테인리스강 합금 소재 만들다 생산 오랜 시간 걸리다 실제 테슬라 수익 도움 되다 않다 분석 많다', '', '', '테슬라 따르다 인도 가능하다 사이버 트럭 후륜구동 모델 시작 가격 하지만 내년 받다 있다 사륜구동 모델 가장 고급 모델 사이버 비스트 시작 가격 각각 이르다 머스크 파다 하다 최소 가격 기준 가다 비싸다', '', '다만 경쟁자 포드 비다 전기 트럭 비교 하다 평균 정도 가격 수준 비다 픽업 시작 포드 라이트닝 가장 저렴하다 버전', '', '캘리포니아 전시장 전시 되다 테슬라 사이버 트럭 연합뉴스', '', '캘리포니아 전시장 전시 되다 테슬라 사이버 트럭 연합뉴스', '머스크 사이버 트럭 타고 행사 나타나다 전문가 불가능하다 하다 트럭 만들다 면서 마침내 미래 미래 보이다 하다', '', '트럭 길이 있다 적재 공간 지니다 무게 구동 기준 멈추다 상태 시속 달린다', '', '차체 단단하다 스테인리스강 합금 소재 만들다 방탄 점도 강조 하다 머스크 영화인 나르다 사랑 스파이 나오다 자동차 잠수함 개조 모습 부분 영감 받다 하다 테슬라 고객 인도 행사 총알 차체 쏘다 끄다 없다 장면 보여주다 하다', '', '', '차다 페인트 하다 않다 소재 부식 강하다 때문 우주선 이렇다 소재 쓰이다 이제껏 자동차 업계 스테인리스 스틸 차체 쓸다 업체 영화 백투더퓨처 등장 하다 리안 제작 하다 그러나 되다 않다 차량 생산 하다 비용 문제 파산하다', '', '그래서 독특하다 소재 생산 문제 테슬라 생산 가능하다 하다 스테인리스강 합금 레이저 절단 하다 차체 만들다 작업 하다 과정 품질 유지 하다 고전 있다 전해지다 그만큼 예약 고객 많다 출고 해주다 쉬다 않다 얘기 만대 그치다 있다 전망 많다 때문 머스크 지난달 실적 발표 사이버 트럭 우리 우리 무덤 파다 하다 생산 대한 부담 고백 하다 하다']\n",
            "Word2Vec<vocab=181, vector_size=100, alpha=0.025>\n",
            "[('실제', 0.4656955897808075), ('고객', 0.35996896028518677), ('많다', 0.33605390787124634), ('픽업', 0.33404141664505005), ('부분', 0.3222098648548126), ('이르다', 0.31687501072883606), ('그만큼', 0.30378878116607666), ('되다', 0.2920265197753906), ('그치다', 0.2768628001213074), ('차체', 0.27337726950645447)]\n",
            "[('경쟁자', 0.25480616092681885), ('수준', 0.17816787958145142), ('차다', 0.1617642343044281), ('지난달', 0.15878498554229736), ('기다리다', 0.15561985969543457), ('버전', 0.15340444445610046), ('이상', 0.14831355214118958), ('가능하다', 0.13739386200904846), ('발표', 0.13154835999011993), ('불가능하다', 0.11917958408594131)]\n",
            "[('실제', 0.4656955897808075), ('고객', 0.35996896028518677), ('많다', 0.33605390787124634), ('픽업', 0.33404141664505005), ('부분', 0.3222098648548126)]\n",
            "[('실제', 0.3765336275100708), ('픽업', 0.31811463832855225), ('많다', 0.3055759370326996), ('스테인리스', 0.3007686138153076), ('고객', 0.29369592666625977)]\n"
          ]
        }
      ]
    },
    {
      "cell_type": "code",
      "source": [
        "# 유사도를 이용한 추천 시스템 구현하기\n",
        "\n",
        "import pandas as pd\n",
        "\n",
        "# DtypeWarning : 열 (2,36,37)에 혼합 유형이 있다. 가져 오기의 경우에 dtype 옵션을 지정하거나 low_memory = False를 설정.\n",
        "data = pd.read_csv(\"https://raw.githubusercontent.com/pykwon/python/master/testdata_utf8/movies_metadata.csv\", encoding = 'ISO-8859-1', low_memory=False)\n",
        "print(data.head(2))       # [2 rows x 45 columns]\n",
        "data=data.head(20000)\n",
        "print(data['overview'].isnull().sum())  # 135\n",
        "\n",
        "data['overview'] = data['overview'].fillna('')    # overview에서 Null 값을 가진 경우에는 값 제거\n",
        "\n",
        "# 이제 tf-idf를 수행\n",
        "from sklearn.feature_extraction.text import TfidfVectorizer\n",
        "\n",
        "tfidf = TfidfVectorizer(stop_words='english')\n",
        "tfidf_matrix = tfidf.fit_transform(data['overview'])\n",
        "# overview에 대해서 tf-idf 수행\n",
        "print(tfidf_matrix.shape)  # (20000, 47181)\n",
        "\n",
        "\n",
        "\n",
        "# overview 열에 대해서 tf-idf를 수행했다. 20,000개의 영화를 표현하기 위해 총 47,487개의 단어가 사용되었음을 보여주고 있다. 이제 코사인 유사도를 사용하면 바로 문서의 유사도를 구할 수 있다.\n",
        "\n",
        "from sklearn.metrics.pairwise import linear_kernel\n",
        "\n",
        "cosine_sim = linear_kernel(tfidf_matrix, tfidf_matrix)  # 코사인 유사도\n",
        "indices = pd.Series(data.index, index=data['title']).drop_duplicates()\n",
        "print(indices.head())\n",
        "\n",
        "\n",
        "\n",
        "# 이 테이블의 용도는 영화의 타이틀을 입력하면 인덱스를 리턴하기 위함.\n",
        "\n",
        "idx = indices['Father of the Bride Part II']\n",
        "print(idx)   # 4\n",
        "\n",
        "# 이제 선택한 영화에 대해서 코사인 유사도를 이용하여, 가장 overview가 유사한 10개의 영화를 찾아내는 함수를 만든다.\n",
        "def get_recommendations(title, cosine_sim=cosine_sim):\n",
        "\n",
        "    # 선택한 영화의 타이틀로부터 해당되는 인덱스를 받아옵니다. 이제 선택한 영화를 가지고 연산할 수 있다.\n",
        "    idx = indices[title]\n",
        "    sim_scores = list(enumerate(cosine_sim[idx]))  # 모든 영화에 대해서 해당 영화와의 유사도를 구한다.\n",
        "    sim_scores = sorted(sim_scores, key=lambda x: x[1], reverse=True)  # 유사도에 따라 영화들을 정렬\n",
        "    sim_scores = sim_scores[1:11]                   # 가장 유사한 10개의 영화를 받아온다.\n",
        "    movie_indices = [i[0] for i in sim_scores]     # 가장 유사한 10개의 영화의 인덱스를 받아온다.\n",
        "    return data['title'].iloc[movie_indices]           # 가장 유사한 10개의 영화의 제목을 리턴\n",
        "\n",
        "\n",
        "\n",
        "# 영화 다크 나이트 라이즈와 overview가 유사한 영화들을 찾아보겠다.\n",
        "print(get_recommendations('The Dark Knight Rises'))\n",
        "\n",
        "# 가장 유사한 영화가 출력되는데, 영화 다크 나이트가 첫번째고, 그 외에도 전부 배트맨 영화를 찾아낸 것을 확인할 수 있다."
      ],
      "metadata": {
        "colab": {
          "base_uri": "https://localhost:8080/"
        },
        "id": "ne9_33rUj4wt",
        "outputId": "c34a5d33-3d0b-4bbc-a90f-b34dda5f9595"
      },
      "execution_count": 18,
      "outputs": [
        {
          "output_type": "stream",
          "name": "stdout",
          "text": [
            "   adult                              belongs_to_collection    budget  \\\n",
            "0  FALSE  {'id': 10194, 'name': 'Toy Story Collection', ...  30000000   \n",
            "1  FALSE                                                NaN  65000000   \n",
            "\n",
            "                                              genres  \\\n",
            "0  [{'id': 16, 'name': 'Animation'}, {'id': 35, '...   \n",
            "1  [{'id': 12, 'name': 'Adventure'}, {'id': 14, '...   \n",
            "\n",
            "                               homepage    id    imdb_id original_language  \\\n",
            "0  http://toystory.disney.com/toy-story   862  tt0114709                en   \n",
            "1                                   NaN  8844  tt0113497                en   \n",
            "\n",
            "  original_title                                           overview  ...  \\\n",
            "0      Toy Story  Led by Woody, Andy's toys live happily in his ...  ...   \n",
            "1        Jumanji  When siblings Judy and Peter discover an encha...  ...   \n",
            "\n",
            "  Unnamed: 35 Unnamed: 36 Unnamed: 37 Unnamed: 38 Unnamed: 39 Unnamed: 40  \\\n",
            "0         NaN         NaN         NaN         NaN         NaN         NaN   \n",
            "1         NaN         NaN         NaN         NaN         NaN         NaN   \n",
            "\n",
            "  Unnamed: 41 Unnamed: 42 Unnamed: 43 Unnamed: 44  \n",
            "0         NaN         NaN         NaN         NaN  \n",
            "1         NaN         NaN         NaN         NaN  \n",
            "\n",
            "[2 rows x 45 columns]\n",
            "135\n",
            "(20000, 47181)\n",
            "title\n",
            "Toy Story                      0\n",
            "Jumanji                        1\n",
            "Grumpier Old Men               2\n",
            "Waiting to Exhale              3\n",
            "Father of the Bride Part II    4\n",
            "dtype: int64\n",
            "4\n",
            "12479                            The Dark Knight\n",
            "150                               Batman Forever\n",
            "1328                              Batman Returns\n",
            "15508                 Batman: Under the Red Hood\n",
            "585                                       Batman\n",
            "9227          Batman Beyond: Return of the Joker\n",
            "18032                           Batman: Year One\n",
            "19789    Batman: The Dark Knight Returns, Part 1\n",
            "3094                Batman: Mask of the Phantasm\n",
            "10119                              Batman Begins\n",
            "Name: title, dtype: object\n"
          ]
        }
      ]
    }
  ]
}